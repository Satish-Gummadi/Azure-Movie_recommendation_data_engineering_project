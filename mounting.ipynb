{
 "cells": [
  {
   "cell_type": "code",
   "execution_count": 0,
   "metadata": {
    "application/vnd.databricks.v1+cell": {
     "cellMetadata": {
      "byteLimit": 2048000,
      "rowLimit": 10000
     },
     "inputWidgets": {},
     "nuid": "ace46716-dd97-4efd-bf2d-e9247eb221f5",
     "showTitle": false,
     "title": ""
    }
   },
   "outputs": [],
   "source": [
    "adlsAccountName = \"movieprojectstorageacc\"\n",
    "adlsContainerName = \"validateddata\"\n",
    "adlsFolderName=\"Data\"\n",
    "mountPoint=\"/mnt/Files/Validateddata\"\n",
    "# Application (Client) ID\n",
    "applicationId=dbutils.secrets.get(scope=\"MovieSec\",key=\"clientid\")\n",
    "# Application (Client) Secret Key\n",
    "authenticationKey=dbutils.secrets.get(scope=\"MovieSec\",key=\"clientsecret\")\n",
    "# Directory (Tenant) ID\n",
    "tenantId=dbutils.secrets.get(scope=\"MovieSec\",key=\"tenantid\")\n",
    "endpoint=\"https://login.microsoftonline.com/\"+tenantId+\"/oauth2/token\"\n",
    "source=\"abfss://\"+adlsContainerName+\"@\"+adlsAccountName+\".dfs.core.windows.net/\"+adlsFolderName\n",
    "# Connecting using Service Principal secrets and OAuth\n",
    "configs={\"fs.azure.account.auth.type\": \"OAuth\",\n",
    "\"fs.azure.account.oauth.provider.type\": \"org.apache.hadoop.fs.azurebfs.oauth2.ClientCredsTokenProvider\",\n",
    "\"fs.azure.account.oauth2.client.id\": applicationId, \n",
    "\"fs.azure.account.oauth2.client.secret\": authenticationKey,\n",
    "\"fs.azure.account.oauth2.client.endpoint\": endpoint}\n",
    "# Mounting ADLS Storage to DBFS\n",
    "# Mount only if the directory is not already mounted\n",
    "if not any(mount.mountPoint==mountPoint for mount in dbutils.fs.mounts()):\n",
    "    dbutils.fs.mount(source=source,mount_point=mountPoint,extra_configs=configs)\n"
   ]
  },
  {
   "cell_type": "code",
   "execution_count": 0,
   "metadata": {
    "application/vnd.databricks.v1+cell": {
     "cellMetadata": {
      "byteLimit": 2048000,
      "rowLimit": 10000
     },
     "inputWidgets": {},
     "nuid": "04b01135-4934-4095-971b-7a6e889a8fb7",
     "showTitle": false,
     "title": ""
    }
   },
   "outputs": [
    {
     "output_type": "display_data",
     "data": {
      "text/html": [
       "<style scoped>\n  .table-result-container {\n    max-height: 300px;\n    overflow: auto;\n  }\n  table, th, td {\n    border: 1px solid black;\n    border-collapse: collapse;\n  }\n  th, td {\n    padding: 5px;\n  }\n  th {\n    text-align: left;\n  }\n</style><div class='table-result-container'><table class='table-result'><thead style='background-color: white'><tr><th>path</th><th>name</th><th>size</th><th>modificationTime</th></tr></thead><tbody><tr><td>dbfs:/mnt/Files/Validateddata/genome-tags.csv</td><td>genome-tags.csv</td><td>18103</td><td>1681457843000</td></tr></tbody></table></div>"
      ]
     },
     "metadata": {
      "application/vnd.databricks.v1+output": {
       "addedWidgets": {},
       "aggData": [],
       "aggError": "",
       "aggOverflow": false,
       "aggSchema": [],
       "aggSeriesLimitReached": false,
       "aggType": "",
       "arguments": {},
       "columnCustomDisplayInfos": {},
       "data": [
        [
         "dbfs:/mnt/Files/Validateddata/genome-tags.csv",
         "genome-tags.csv",
         18103,
         1681457843000
        ]
       ],
       "datasetInfos": [],
       "dbfsResultPath": null,
       "isJsonSchema": true,
       "metadata": {
        "isDbfsCommandResult": false
       },
       "overflow": false,
       "plotOptions": {
        "customPlotOptions": {},
        "displayType": "table",
        "pivotAggregation": null,
        "pivotColumns": null,
        "xColumns": null,
        "yColumns": null
       },
       "removedWidgets": [],
       "schema": [
        {
         "metadata": "{}",
         "name": "path",
         "type": "\"string\""
        },
        {
         "metadata": "{}",
         "name": "name",
         "type": "\"string\""
        },
        {
         "metadata": "{}",
         "name": "size",
         "type": "\"long\""
        },
        {
         "metadata": "{}",
         "name": "modificationTime",
         "type": "\"long\""
        }
       ],
       "type": "table"
      }
     },
     "output_type": "display_data"
    }
   ],
   "source": [
    "%fs\n",
    "ls dbfs:/mnt/Files/Validateddata"
   ]
  },
  {
   "cell_type": "code",
   "execution_count": 0,
   "metadata": {
    "application/vnd.databricks.v1+cell": {
     "cellMetadata": {
      "byteLimit": 2048000,
      "rowLimit": 10000
     },
     "inputWidgets": {},
     "nuid": "b11f51a1-cdba-445b-aaba-819442a1979b",
     "showTitle": false,
     "title": ""
    }
   },
   "outputs": [
    {
     "output_type": "display_data",
     "data": {
      "text/html": [
       "<style scoped>\n  .table-result-container {\n    max-height: 300px;\n    overflow: auto;\n  }\n  table, th, td {\n    border: 1px solid black;\n    border-collapse: collapse;\n  }\n  th, td {\n    padding: 5px;\n  }\n  th {\n    text-align: left;\n  }\n</style><div class='table-result-container'><table class='table-result'><thead style='background-color: white'><tr><th>path</th><th>name</th><th>size</th><th>modificationTime</th></tr></thead><tbody><tr><td>dbfs:/mnt/Files/Validateddata/genome-tags.csv</td><td>genome-tags.csv</td><td>18103</td><td>1681457843000</td></tr></tbody></table></div>"
      ]
     },
     "metadata": {
      "application/vnd.databricks.v1+output": {
       "addedWidgets": {},
       "aggData": [],
       "aggError": "",
       "aggOverflow": false,
       "aggSchema": [],
       "aggSeriesLimitReached": false,
       "aggType": "",
       "arguments": {},
       "columnCustomDisplayInfos": {},
       "data": [
        [
         "dbfs:/mnt/Files/Validateddata/genome-tags.csv",
         "genome-tags.csv",
         18103,
         1681457843000
        ]
       ],
       "datasetInfos": [],
       "dbfsResultPath": null,
       "isJsonSchema": true,
       "metadata": {},
       "overflow": false,
       "plotOptions": {
        "customPlotOptions": {},
        "displayType": "table",
        "pivotAggregation": null,
        "pivotColumns": null,
        "xColumns": null,
        "yColumns": null
       },
       "removedWidgets": [],
       "schema": [
        {
         "metadata": "{}",
         "name": "path",
         "type": "\"string\""
        },
        {
         "metadata": "{}",
         "name": "name",
         "type": "\"string\""
        },
        {
         "metadata": "{}",
         "name": "size",
         "type": "\"long\""
        },
        {
         "metadata": "{}",
         "name": "modificationTime",
         "type": "\"long\""
        }
       ],
       "type": "table"
      }
     },
     "output_type": "display_data"
    }
   ],
   "source": [
    "display(dbutils.fs.ls(f\"/mnt/Files/Validateddata/\"))"
   ]
  },
  {
   "cell_type": "code",
   "execution_count": 0,
   "metadata": {
    "application/vnd.databricks.v1+cell": {
     "cellMetadata": {},
     "inputWidgets": {},
     "nuid": "7fe5d10a-ec31-454f-8df7-050a4c2ac42d",
     "showTitle": false,
     "title": ""
    }
   },
   "outputs": [],
   "source": [
    "# to unmount the space if required\n",
    "dbutils.fs.unmount(\"/mnt/Files/Validateddata\")"
   ]
  }
 ],
 "metadata": {
  "application/vnd.databricks.v1+notebook": {
   "dashboards": [],
   "language": "python",
   "notebookMetadata": {
    "mostRecentlyExecutedCommandWithImplicitDF": {
     "commandId": 2556915807025803,
     "dataframes": [
      "_sqldf"
     ]
    },
    "pythonIndentUnit": 4
   },
   "notebookName": "mounting",
   "notebookOrigID": 2556915807025801,
   "widgets": {}
  }
 },
 "nbformat": 4,
 "nbformat_minor": 0
}
